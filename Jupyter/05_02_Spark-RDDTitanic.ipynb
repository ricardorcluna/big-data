{
 "cells": [
  {
   "cell_type": "code",
   "execution_count": null,
   "id": "f6f1a03b",
   "metadata": {},
   "outputs": [],
   "source": [
    "import findspark\n",
    "findspark.init()"
   ]
  },
  {
   "cell_type": "code",
   "execution_count": null,
   "id": "d615bcea",
   "metadata": {},
   "outputs": [],
   "source": [
    "import pyspark\n",
    "import csv"
   ]
  },
  {
   "cell_type": "code",
   "execution_count": null,
   "id": "23e6c07e",
   "metadata": {},
   "outputs": [],
   "source": [
    "sc = pyspark.SparkContext(AppName = \"Titanic\")"
   ]
  },
  {
   "cell_type": "code",
   "execution_count": null,
   "id": "7e1a9620",
   "metadata": {},
   "outputs": [],
   "source": [
    "# Cargamos el archivo csv y creamos un RDD con esa información \n",
    "# raw: RDD de listas de cadenas de texto\n",
    "# Primero leemos el arhcivo, dividimos el CSV en listas,\n",
    "# eliminamos la cabecera\n",
    "\n",
    "# Solo contamos sobrevivientes\n",
    "raw = ( sc.textfile(\"D:\\\\Universidad\\Semestre_8\\Big Data\\Datasets-20220222\\titanic.csv\")\\\n",
    "       .map(lambda s: list(csv.reader([s]))[0])\\\n",
    "       .filter(lambda l: l[0] != \"survived\") )\n",
    "print(\"Listas totales: \", raw.count())\n",
    "\n",
    "# Salida\n",
    "# Listas totales: 891"
   ]
  },
  {
   "cell_type": "code",
   "execution_count": null,
   "id": "43af9173",
   "metadata": {},
   "outputs": [],
   "source": [
    "# Funciones\n",
    "# Se verifica que las listas tengan informacion\n",
    "\n",
    "def complete(l):\n",
    "    for i in [0,1,2,3,4,5,6,7]: #Unicamente comprobamos\n",
    "        if l[i] == '':\n",
    "            return False\n",
    "        return True\n",
    "    \n",
    "# Transforma la lista de cadenas de texto en diccionarios\n",
    "# con enteros, reales o cadenas de texto,\n",
    "# segun la columna.\n",
    "# no se toman en cuenta las demas columnas:\n",
    "# class, who, adult_male, deck, embark_town, alive y alone\n",
    "\n",
    "def proyect_and_parse(l):\n",
    "    return {\"survived\": int(l[0]), \"pclass\": int(l[1]),\n",
    "            \"sex\": l[2], \"age\": float (l[3]),\n",
    "            \"sibsp\": int(l[4]),\n",
    "            \"parch\": int(l[5]), \"fare\": float(l[6]),\n",
    "            \"embarked\":l[7]}"
   ]
  },
  {
   "cell_type": "code",
   "execution_count": null,
   "id": "bcded4bf",
   "metadata": {},
   "outputs": [],
   "source": [
    "# RDD de diccionarios con valores validos\n",
    "non_null = raw.filtrer(complete)\n",
    "r1 = (non_null.map(proyect_and_parse))\n",
    "print(\"Listas completas:\", r1.count())\n",
    "\n",
    "# Solo renglones completas, de 891 a 712\n",
    "\n",
    "# Salida:\n",
    "# Listas completas: 712"
   ]
  },
  {
   "cell_type": "code",
   "execution_count": null,
   "id": "e3b8797d",
   "metadata": {},
   "outputs": [],
   "source": [
    "raw.collect()"
   ]
  },
  {
   "cell_type": "code",
   "execution_count": null,
   "id": "8e55440c",
   "metadata": {},
   "outputs": [],
   "source": [
    "# Funcion que acepta dos diccionarios y combina cada clave\n",
    "# usando la funcion f\n",
    "# Suponemos que ambos diccionarios tiene los mismas claves\n",
    "\n",
    "def combine_dicts( f, d1, d2 ):\n",
    "    res = dict()\n",
    "    for k in d1.keys():\n",
    "        res[k] = f(d1[k], d2[k])\n",
    "    return res\n",
    "\n",
    "# Dict que determina los valores maximos para cada columna\n",
    "maximos = r1.reduce ( lambda d1, d2: combine_dicts (max,d1,d2) )\n",
    "# Dict que determina valores minimos para cada columna\n",
    "minimos = r1.reduce ( lambda d1, d2: combine_dicts (min,d1,d2) )\n",
    "\n",
    "print(\"Maximos:\", maximos)\n",
    "print(\"Minimos:\", minimos)\n",
    "\n",
    "\n",
    "# Salida\n",
    "# Maximos: {'survived': 1, 'pclass': 3, 'sex': 'male', 'age': 80.0, 'sibsp': 5, 'parch': 6, 'fare': 512.3292, 'embarked': 'S'}\n",
    "\n",
    "# Minimos: {'survived': 0, 'pclass': 1, 'sex': 'female', 'age': 0.42, 'sibsp': 0, 'parch': 0, 'fare': 0.0, 'embarked': 'C'}"
   ]
  },
  {
   "cell_type": "code",
   "execution_count": null,
   "id": "280c313e",
   "metadata": {},
   "outputs": [],
   "source": [
    "# Función que procesa todas las claves en 'keys' de un diccionario y las\n",
    "# normaliza usando los diccionarios de valores maximos 'maxs' y minimos 'mins'\n",
    "# El resto de entradas se queda inalterado\n",
    "\n",
    "def normalized(d, keys, maxs, mins):\n",
    "    res = dict()\n",
    "    for (k,v) in d.times():\n",
    "        if k in keys:\n",
    "            res[k] = (v - mins[k]) / (maxs[k] - mins[k]) \n",
    "        else:\n",
    "            res[k] = v\n",
    "    return res\n",
    "\n",
    "# normalize: realiza una reescala de valores numericos en el rango de 0-1\n",
    "# Softwarem SW, soft. = Software, Numero, Num #, No. = Numero \n",
    "normalized = r1.map(lambda d: normalize(d, ['age','sibsp', 'parch','fare'], maximos, minimos))\n",
    "print(\"Primera entrada: \\n\", r1.first())\n",
    "print(\"Primera entrada normalizada:\\n\", normalized.first(), '\\n')\n",
    "\n",
    "# Salida:\n",
    "# Primera entrada:\n",
    "#  {'survived': 0, 'pclass': 3, 'sex': 'male', 'age': 22.0, 'sibsp': 1, 'parch': 0, 'fare': 7.25, 'embarked': 'S'}\n",
    "\n",
    "# Primera entrada:\n",
    "#  {'survived': 0, 'pclass': 3, 'sex': 'male', 'age': 0.271173661.., \n",
    "#                                         'sibsp': 0.2, 'parch': 0.0, 'fare': 0.014151057....,'embarked': 'S'}"
   ]
  },
  {
   "cell_type": "code",
   "execution_count": null,
   "id": "b40be69f",
   "metadata": {},
   "outputs": [],
   "source": [
    "# Funcion que actualiza el conjunto de valors unicos con el valor con\n",
    "# el valor que contiene el diccionario en una columna key\n",
    "\n",
    "def update_set_dict (s, d, key):\n",
    "    s.add(d[key]) #Spark permite modificar el primer parametro y devolverlo\n",
    "    return s\n",
    "\n",
    "# Diccionario de conjuntos de valores unicos para la columna 'sex'\n",
    "# set(): crea un diccionario vacio, no permite datos repetidos\n",
    "sex_values = normalized.aggregate(set(), \n",
    "                                  lambda s, d: update_set_dict(s,d,'sex'),\n",
    "                                  lambda s1,s2: s1.union(s2))\n",
    "\n",
    "# Diccionario de conjuntos de valores unicos para la columna 'embarked'\n",
    "# set(): crea un diccionario vacio, no permite datos repetidos\n",
    "embarked_values = normalized.aggregate(set(), \n",
    "                                       lambda s, d: update_set_dict(s,d,'embarked'),\n",
    "                                       lambda s1,s2: s1.union(s2))\n",
    "\n",
    "print(\"Valores unicos de la columna sex:\", sex_values)\n",
    "print(\"Valores unicos de la columna embarked:\", embarked_values)\n",
    "\n",
    "# Salida\n",
    "# Valores unicos de la columna sex: {'female', 'male'}\n",
    "# Valores unicos de la columna embarked: {'Q','C','S'}"
   ]
  },
  {
   "cell_type": "code",
   "execution_count": null,
   "id": "c87a00a2",
   "metadata": {},
   "outputs": [],
   "source": [
    "# Funcion que acepta un obeto iterable (lista, conjunto, ndarray ...)\n",
    "# de valores unicos y devuelve un diccionario para\n",
    "# traducir valor -> numero.\n",
    "# Los numeros naturales estan en el rango [0, len(it)]\n",
    "\n",
    "def values_to_mapping(it):\n",
    "    values = sorted(it)\n",
    "    size = len(values)\n",
    "    return { k:v for (k,v) in zip(values, range(size)) } \n",
    "\n",
    "# recibe como parametros objetos iterables del mismo tamaño\n",
    "# resultado : {k:v}\n",
    "    \n",
    "# Construye los diccionarios traductores a partir de los conjuntos de valores unicos\n",
    "sex_mapping = values_to_mapping(sex_values)\n",
    "embarked_mapping = values_to_mapping(embarked_values)\n",
    "\n",
    "print(\"Mapping para la columna Sex:\", sex_mapping)\n",
    "print(\"Mapping para la columna Embarked:\", embarked_mapping)\n",
    "\n",
    "# Salida\n",
    "# Valores unicos de la columna sex: {'female': 0, 'male': 1}\n",
    "# Valores unicos de la columna embarked: {'C': 0,'Q': 1,'S': 2}"
   ]
  },
  {
   "cell_type": "code",
   "execution_count": null,
   "id": "4b86d0c7",
   "metadata": {},
   "outputs": [],
   "source": [
    "# Función que dado un diccionario y una clave, cambia su valor\n",
    "# por su traducción según 'mapping'\n",
    "\n",
    "def dict_translate(d, key, mapping):\n",
    "    d[key] = mapping[d[key]]\n",
    "    return d\n",
    "\n",
    "# Traduce las entradas 'sex' y 'embarked' de los diccionarios\n",
    "# por sus valores traducidos\n",
    "\n",
    "titanic = (normalized.map(lambda d: dict_translate(d, 'sex', sex_mapping))\n",
    "            .map(lambda d: dict_translate(d, 'embarked', embarked_mapping)))\n",
    "\n",
    "# Entrada preprocesada: una aplicadas varias transformaciones, los datos\n",
    "# con algun algoritmo de ML\n",
    "print(\"Primera entrda preprocesada: \", titanic.first() )\n",
    "\n",
    "# Primera entrda preprocesada:\n",
    "# {'survived': 0, 'pclass': 3, 'sex': 1, 'age': 0.2711736617240513, \n",
    "#                              'sibsp': 0.2, 'parch': 0, 'fare': 0.014151057562208049, 'embarked': 2}"
   ]
  }
 ],
 "metadata": {
  "kernelspec": {
   "display_name": "Python 3 (ipykernel)",
   "language": "python",
   "name": "python3"
  },
  "language_info": {
   "codemirror_mode": {
    "name": "ipython",
    "version": 3
   },
   "file_extension": ".py",
   "mimetype": "text/x-python",
   "name": "python",
   "nbconvert_exporter": "python",
   "pygments_lexer": "ipython3",
   "version": "3.9.7"
  }
 },
 "nbformat": 4,
 "nbformat_minor": 5
}
