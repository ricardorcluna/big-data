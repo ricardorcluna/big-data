{
 "cells": [
  {
   "cell_type": "markdown",
   "id": "34f52f74",
   "metadata": {},
   "source": [
    "API REST\n",
    "google OMDB: https://omdbapi.com/"
   ]
  },
  {
   "cell_type": "code",
   "execution_count": 9,
   "id": "602e6cbc",
   "metadata": {},
   "outputs": [],
   "source": [
    "clave = \"\"\n",
    "uri = \"https://omdbapi.com/?&apikey=\" + clave"
   ]
  },
  {
   "cell_type": "code",
   "execution_count": 12,
   "id": "421e9c49",
   "metadata": {},
   "outputs": [],
   "source": [
    "clave = \"473c8044\"\n",
    "uri = \"http://www.omdbapi.com/?8&apikey=\" +clave"
   ]
  },
  {
   "cell_type": "code",
   "execution_count": 13,
   "id": "8aaf26a0",
   "metadata": {},
   "outputs": [],
   "source": [
    "import requests\n",
    "import json"
   ]
  },
  {
   "cell_type": "code",
   "execution_count": 14,
   "id": "19f6a186",
   "metadata": {},
   "outputs": [
    {
     "data": {
      "text/plain": [
       "{'Search': [{'Title': 'Harry Potter and the Deathly Hallows: Part 2',\n",
       "   'Year': '2011',\n",
       "   'imdbID': 'tt1201607',\n",
       "   'Type': 'movie',\n",
       "   'Poster': 'https://m.media-amazon.com/images/M/MV5BMGVmMWNiMDktYjQ0Mi00MWIxLTk0N2UtN2ZlYTdkN2IzNDNlXkEyXkFqcGdeQXVyODE5NzE3OTE@._V1_SX300.jpg'},\n",
       "  {'Title': \"Harry Potter and the Sorcerer's Stone\",\n",
       "   'Year': '2001',\n",
       "   'imdbID': 'tt0241527',\n",
       "   'Type': 'movie',\n",
       "   'Poster': 'https://m.media-amazon.com/images/M/MV5BNjQ3NWNlNmQtMTE5ZS00MDdmLTlkZjUtZTBlM2UxMGFiMTU3XkEyXkFqcGdeQXVyNjUwNzk3NDc@._V1_SX300.jpg'},\n",
       "  {'Title': 'Harry Potter and the Chamber of Secrets',\n",
       "   'Year': '2002',\n",
       "   'imdbID': 'tt0295297',\n",
       "   'Type': 'movie',\n",
       "   'Poster': 'https://m.media-amazon.com/images/M/MV5BMTcxODgwMDkxNV5BMl5BanBnXkFtZTYwMDk2MDg3._V1_SX300.jpg'},\n",
       "  {'Title': 'Harry Potter and the Prisoner of Azkaban',\n",
       "   'Year': '2004',\n",
       "   'imdbID': 'tt0304141',\n",
       "   'Type': 'movie',\n",
       "   'Poster': 'https://m.media-amazon.com/images/M/MV5BMTY4NTIwODg0N15BMl5BanBnXkFtZTcwOTc0MjEzMw@@._V1_SX300.jpg'},\n",
       "  {'Title': 'Harry Potter and the Goblet of Fire',\n",
       "   'Year': '2005',\n",
       "   'imdbID': 'tt0330373',\n",
       "   'Type': 'movie',\n",
       "   'Poster': 'https://m.media-amazon.com/images/M/MV5BMTI1NDMyMjExOF5BMl5BanBnXkFtZTcwOTc4MjQzMQ@@._V1_SX300.jpg'},\n",
       "  {'Title': 'Harry Potter and the Order of the Phoenix',\n",
       "   'Year': '2007',\n",
       "   'imdbID': 'tt0373889',\n",
       "   'Type': 'movie',\n",
       "   'Poster': 'https://m.media-amazon.com/images/M/MV5BMTM0NTczMTUzOV5BMl5BanBnXkFtZTYwMzIxNTg3._V1_SX300.jpg'},\n",
       "  {'Title': 'Harry Potter and the Deathly Hallows: Part 1',\n",
       "   'Year': '2010',\n",
       "   'imdbID': 'tt0926084',\n",
       "   'Type': 'movie',\n",
       "   'Poster': 'https://m.media-amazon.com/images/M/MV5BMTQ2OTE1Mjk0N15BMl5BanBnXkFtZTcwODE3MDAwNA@@._V1_SX300.jpg'},\n",
       "  {'Title': 'Harry Potter and the Half-Blood Prince',\n",
       "   'Year': '2009',\n",
       "   'imdbID': 'tt0417741',\n",
       "   'Type': 'movie',\n",
       "   'Poster': 'https://m.media-amazon.com/images/M/MV5BNzU3NDg4NTAyNV5BMl5BanBnXkFtZTcwOTg2ODg1Mg@@._V1_SX300.jpg'},\n",
       "  {'Title': 'Harry Potter 20th Anniversary: Return to Hogwarts',\n",
       "   'Year': '2022',\n",
       "   'imdbID': 'tt16116174',\n",
       "   'Type': 'movie',\n",
       "   'Poster': 'https://m.media-amazon.com/images/M/MV5BNTZkNWEyZTgtYzJlOS00OWNiLTgwZjMtZGU5NTRhNDNjOTRhXkEyXkFqcGdeQXVyNjk1Njg5NTA@._V1_SX300.jpg'},\n",
       "  {'Title': 'Harry Potter and the Forbidden Journey',\n",
       "   'Year': '2010',\n",
       "   'imdbID': 'tt1756545',\n",
       "   'Type': 'movie',\n",
       "   'Poster': 'https://m.media-amazon.com/images/M/MV5BNDM0YzMyNGUtMTU1Yy00OTE2LWE5NzYtZDZhMTBmN2RkNjg3XkEyXkFqcGdeQXVyMzU5NjU1MDA@._V1_SX300.jpg'}],\n",
       " 'totalResults': '88',\n",
       " 'Response': 'True'}"
      ]
     },
     "execution_count": 14,
     "metadata": {},
     "output_type": "execute_result"
    }
   ],
   "source": [
    "#busqueda con valor, s\n",
    "consulta = requests.get(uri, {\"s\" : \"Harry Potter\", \"type\" : \"movie\"})\n",
    "consulta.json()"
   ]
  },
  {
   "cell_type": "code",
   "execution_count": 15,
   "id": "b9837e72",
   "metadata": {},
   "outputs": [
    {
     "data": {
      "text/plain": [
       "{'Title': 'Star Wars: Episode II - Attack of the Clones',\n",
       " 'Year': '2002',\n",
       " 'Rated': 'PG',\n",
       " 'Released': '16 May 2002',\n",
       " 'Runtime': '142 min',\n",
       " 'Genre': 'Action, Adventure, Fantasy',\n",
       " 'Director': 'George Lucas',\n",
       " 'Writer': 'George Lucas, Jonathan Hales, John Ostrander',\n",
       " 'Actors': 'Hayden Christensen, Natalie Portman, Ewan McGregor',\n",
       " 'Plot': 'Ten years after initially meeting, Anakin Skywalker shares a forbidden romance with Padmé Amidala, while Obi-Wan Kenobi investigates an assassination attempt on the senator and discovers a secret clone army crafted for the Jedi.',\n",
       " 'Language': 'English',\n",
       " 'Country': 'United States',\n",
       " 'Awards': 'Nominated for 1 Oscar. 19 wins & 65 nominations total',\n",
       " 'Poster': 'https://m.media-amazon.com/images/M/MV5BMDAzM2M0Y2UtZjRmZi00MzVlLTg4MjEtOTE3NzU5ZDVlMTU5XkEyXkFqcGdeQXVyNDUyOTg3Njg@._V1_SX300.jpg',\n",
       " 'Ratings': [{'Source': 'Internet Movie Database', 'Value': '6.5/10'},\n",
       "  {'Source': 'Rotten Tomatoes', 'Value': '65%'},\n",
       "  {'Source': 'Metacritic', 'Value': '54/100'}],\n",
       " 'Metascore': '54',\n",
       " 'imdbRating': '6.5',\n",
       " 'imdbVotes': '681,114',\n",
       " 'imdbID': 'tt0121765',\n",
       " 'Type': 'movie',\n",
       " 'DVD': '22 Mar 2005',\n",
       " 'BoxOffice': '$310,676,740',\n",
       " 'Production': 'N/A',\n",
       " 'Website': 'N/A',\n",
       " 'Response': 'True'}"
      ]
     },
     "execution_count": 15,
     "metadata": {},
     "output_type": "execute_result"
    }
   ],
   "source": [
    "#Consulta con informacion, i\n",
    "consulta_info = requests.get(uri, {\"i\" : \"tt0121765\", \"type\" : \"movie\"})\n",
    "consulta_info.json()"
   ]
  },
  {
   "cell_type": "code",
   "execution_count": 16,
   "id": "76ce588d",
   "metadata": {},
   "outputs": [
    {
     "data": {
      "text/plain": [
       "'http://www.omdbapi.com/?8&apikey=473c8044&i=tt0121765&type=movie'"
      ]
     },
     "execution_count": 16,
     "metadata": {},
     "output_type": "execute_result"
    }
   ],
   "source": [
    "consulta_info.url"
   ]
  },
  {
   "cell_type": "code",
   "execution_count": 17,
   "id": "74580de3",
   "metadata": {},
   "outputs": [],
   "source": [
    "consulta_info.close()"
   ]
  },
  {
   "cell_type": "code",
   "execution_count": null,
   "id": "573619c1",
   "metadata": {},
   "outputs": [],
   "source": []
  }
 ],
 "metadata": {
  "kernelspec": {
   "display_name": "Python 3 (ipykernel)",
   "language": "python",
   "name": "python3"
  },
  "language_info": {
   "codemirror_mode": {
    "name": "ipython",
    "version": 3
   },
   "file_extension": ".py",
   "mimetype": "text/x-python",
   "name": "python",
   "nbconvert_exporter": "python",
   "pygments_lexer": "ipython3",
   "version": "3.9.7"
  }
 },
 "nbformat": 4,
 "nbformat_minor": 5
}
