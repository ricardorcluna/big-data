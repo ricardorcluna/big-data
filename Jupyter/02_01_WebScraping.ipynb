{
 "cells": [
  {
   "cell_type": "markdown",
   "id": "268a11b9",
   "metadata": {},
   "source": [
    "Web Scraping\n",
    "\n",
    "Web scraping Blogs, foros, sitios oficiales de datos, etc. \n",
    "Función de recopilar esa información: comparación de precios, análisis de opinión sobre productos/servicios, chatbots, etc. \n",
    "No hay tenemos límite en cuanto creatividad de trabajar con la información. \n",
    "Existen sitios donde tienen derechos de autor, habrá que tener cuidado. \n",
    "Hay más sitios que tienen un concepto datos libres: cada vez más organizaciones tienen secciones de datos (csv, bd, xslx, json)\n",
    "\n",
    "Hay 3 formatos: Fuentes de información:\n",
    "\n",
    "    * Paginas web pueden incluir: csv, json, xml, etc.\n",
    "    * API-REST json, xml\n",
    "    * Páginas que contienen la información en formato \"humano\": python tiene varias librerias:\n",
    "        Acceder por medio de una URL, descarga inforamción y luego podemos utlizar desde python un paquete: BeautifulSoup\n",
    "        Si requiere realizar un proceso en la información (extra) entonces se utiliza un paquete: Selenium (permite desde python hacer todo como si estuvieramos en el navegador)\n",
    "        Python: requests\n",
    "\n",
    "Resumiendo:\n",
    "\n",
    "    Archivos incluidos en la página web : requests, csv, json, etc.\n",
    "    API-REST : Requests\n",
    "    Datos incrustados en la página web (incluidos): BeautifilSoup\n",
    "    Datos que requieren de proceso/interacción: Selenium.\n",
    "\n",
    "Archivos incluidos en la página web: URI, IRL, URN\n",
    "\n",
    "URI (Uniform Resource Identifier): cadena de caracteres que identifica un recurso.\n",
    "\n",
    "Sintaxis general: schema:[//[user[:passwd]@host[:port]][/path][?query][#tag]]\n",
    "\n",
    "    https://es.wikipedia.org/wiki/Pandemia_de_COVID-19\n",
    "    https://es.wikipedia.org/wiki/Pandemia_de_COVID-19#Am%C3%A9rica\n",
    "    https://www.youtube.com/watch?V=183IwSzCgV4\n",
    "\n",
    "URI se divide en dos partes: URL y URN\n",
    "\n",
    "    URL (uniform resource lcoator) direcciones en la www\n",
    "        ftp://teclaguna.edu.mx\n",
    "    URN (Uniform Resource Name)\n",
    "        urn:isbn:0451450523\n",
    "\n",
    "eb Scraping\n",
    "\n",
    "Web scraping Blogs, foros, sitios oficiales de datos, etc. Función de recopilar esa información: \n",
    "    comparación de precios, análisis de opinión sobre productos/servicios, chatbots, etc. \n",
    "    No hay tenemos límite en cuanto creatividad de trabajar con la información. \n",
    "    Existen sitios donde tienen derechos de autor, habrá que tener cuidado. \n",
    "    Hay más sitios que tienen un concepto datos libres: \n",
    "        cada vez más organizaciones tienen secciones de datos (csv, bd, xslx, json)\n",
    "\n",
    "Hay 3 formatos: Fuentes de información:\n",
    "\n",
    "    Paginas web pueden incluir: csv, json, xml, etc.\n",
    "    API-REST json, xml\n",
    "    Páginas que contienen la información en formato \"humano\": python tiene varias librerias:\n",
    "        Acceder por medio de una URL, descarga inforamción y luego podemos utlizar desde python un paquete: BeautifulSoup\n",
    "        Si requiere realizar un proceso en la información (extra) entonces se utiliza un paquete: Selenium (permite desde python hacer todo como si estuvieramos en el navegador)\n",
    "        Python: requests\n",
    "\n",
    "Resumiendo:\n",
    "\n",
    "    Archivos incluidos en la página web : requests, csv, json, etc.\n",
    "    API-REST : Requests\n",
    "    Datos incrustados en la página web (incluidos): BeautifilSoup\n",
    "    Datos que requieren de proceso/interacción: Selenium.\n",
    "\n",
    "Archivos incluidos en la página web: URI, IRL, URN\n",
    "\n",
    "URI (Uniform Resource Identifier): cadena de caracteres que identifica un recurso.\n",
    "\n",
    "Sintaxis general: schema:[//[user[:passwd]@host[:port]][/path][?query][#tag]]\n",
    "\n",
    "    https://es.wikipedia.org/wiki/Pandemia_de_COVID-19\n",
    "    https://es.wikipedia.org/wiki/Pandemia_de_COVID-19#Am%C3%A9rica\n",
    "    https://www.youtube.com/watch?V=183IwSzCgV4\n",
    "\n",
    "URI se divide en dos partes: URL y URN\n",
    "\n",
    "    URL (uniform resource lcoator) direcciones en la www\n",
    "        ftp://teclaguna.edu.mx\n",
    "    URN (Uniform Resource Name)\n",
    "        urn:isbn:0451450523"
   ]
  },
  {
   "cell_type": "code",
   "execution_count": 2,
   "id": "17e383f6",
   "metadata": {},
   "outputs": [
    {
     "name": "stdout",
     "output_type": "stream",
     "text": [
      "<Response [200]>\n"
     ]
    }
   ],
   "source": [
    "#Archivos incluidos en la página web\n",
    "import requests\n",
    "url = \"http://www.gutenberg.org/ebooks/1112.txt.utf-8\"\n",
    "resp = requests.get(url)\n",
    "print(resp) #https://www.w3.org/Protocols/rfc2616/rfc2616-sec10.html"
   ]
  },
  {
   "cell_type": "code",
   "execution_count": 2,
   "id": "7936aad6",
   "metadata": {},
   "outputs": [
    {
     "data": {
      "text/plain": [
       "requests.models.Response"
      ]
     },
     "execution_count": 2,
     "metadata": {},
     "output_type": "execute_result"
    }
   ],
   "source": [
    "type(resp)"
   ]
  },
  {
   "cell_type": "code",
   "execution_count": 7,
   "id": "478eb764",
   "metadata": {},
   "outputs": [],
   "source": [
    "path = \"C:\\\\big_data\\\\\"\n",
    "# /big_data/\"\n",
    "with open(path + \"ryj.text\", \"wb\") as arch:\n",
    "    arch.write(resp.content)"
   ]
  },
  {
   "cell_type": "code",
   "execution_count": 8,
   "id": "92a8347e",
   "metadata": {},
   "outputs": [
    {
     "name": "stdout",
     "output_type": "stream",
     "text": [
      "29174\n"
     ]
    }
   ],
   "source": [
    "import urllib.request\n",
    "signos = \",*./#[] \"\n",
    "cuenta = 0\n",
    "pal = [] #Lista\n",
    "with urllib.request.urlopen(\"http://www.gutenberg.org/ebooks/1112.txt.utf-8\") as info:\n",
    "    for linea in info.readlines():\n",
    "        limpia = linea.decode(\"utf-8\").lower()\n",
    "        for s in signos:\n",
    "            limpia = limpia.replace(s, \" \") \n",
    "            #cuenta = cuenta + 1\n",
    "        #extend append en la lista\n",
    "        pal.extend(limpia.split())\n",
    "#print(cuenta)\n",
    "print(len(pal))\n",
    "#print(pal)"
   ]
  },
  {
   "cell_type": "code",
   "execution_count": 9,
   "id": "10ea6ae7",
   "metadata": {},
   "outputs": [
    {
     "data": {
      "text/plain": [
       "'TheProjectGutenbergEBookofRomeoandJulietbyWilliamShakespeare'"
      ]
     },
     "execution_count": 9,
     "metadata": {},
     "output_type": "execute_result"
    }
   ],
   "source": [
    "tabla = str.maketrans({letra: None for letra in \",*./#[] \"})\n",
    "\"The Project Gutenberg EBook of Romeo and Juliet, by William Shakespeare\".translate(tabla)"
   ]
  },
  {
   "cell_type": "code",
   "execution_count": 10,
   "id": "80bd51b5",
   "metadata": {},
   "outputs": [],
   "source": [
    "#Otra manera: expresiones regulares\n",
    "apellido = (\"capulet\", \"montague\")\n",
    "nombres = (\"romeo\", \"juliet\", \"tybalt\", \"mercutio\")"
   ]
  },
  {
   "cell_type": "code",
   "execution_count": 11,
   "id": "9fc77fbe",
   "metadata": {},
   "outputs": [],
   "source": [
    "ap = {a: pal.count(a) for a in apellido}\n",
    "no = {n: pal.count(n) for n in nombres}"
   ]
  },
  {
   "cell_type": "code",
   "execution_count": 12,
   "id": "9eb2f613",
   "metadata": {},
   "outputs": [
    {
     "name": "stdout",
     "output_type": "stream",
     "text": [
      "{'capulet': 29, 'montague': 26}\n",
      "{'romeo': 111, 'juliet': 56, 'tybalt': 47, 'mercutio': 19}\n"
     ]
    }
   ],
   "source": [
    "print(ap)\n",
    "print(no)"
   ]
  },
  {
   "cell_type": "code",
   "execution_count": 13,
   "id": "604145ac",
   "metadata": {},
   "outputs": [
    {
     "data": {
      "text/plain": [
       "dict_keys(['capulet', 'montague'])"
      ]
     },
     "execution_count": 13,
     "metadata": {},
     "output_type": "execute_result"
    }
   ],
   "source": [
    "ap.keys()"
   ]
  },
  {
   "cell_type": "code",
   "execution_count": 14,
   "id": "e5fcaed6",
   "metadata": {},
   "outputs": [],
   "source": [
    "#Ahora a graficar :) \n",
    "import matplotlib.pyplot as plt"
   ]
  },
  {
   "cell_type": "code",
   "execution_count": 15,
   "id": "9da6364b",
   "metadata": {},
   "outputs": [
    {
     "data": {
      "text/plain": [
       "['Solarize_Light2',\n",
       " '_classic_test_patch',\n",
       " 'bmh',\n",
       " 'classic',\n",
       " 'dark_background',\n",
       " 'fast',\n",
       " 'fivethirtyeight',\n",
       " 'ggplot',\n",
       " 'grayscale',\n",
       " 'seaborn',\n",
       " 'seaborn-bright',\n",
       " 'seaborn-colorblind',\n",
       " 'seaborn-dark',\n",
       " 'seaborn-dark-palette',\n",
       " 'seaborn-darkgrid',\n",
       " 'seaborn-deep',\n",
       " 'seaborn-muted',\n",
       " 'seaborn-notebook',\n",
       " 'seaborn-paper',\n",
       " 'seaborn-pastel',\n",
       " 'seaborn-poster',\n",
       " 'seaborn-talk',\n",
       " 'seaborn-ticks',\n",
       " 'seaborn-white',\n",
       " 'seaborn-whitegrid',\n",
       " 'tableau-colorblind10']"
      ]
     },
     "execution_count": 15,
     "metadata": {},
     "output_type": "execute_result"
    }
   ],
   "source": [
    "plt.style.available"
   ]
  },
  {
   "cell_type": "code",
   "execution_count": 16,
   "id": "947117d4",
   "metadata": {},
   "outputs": [
    {
     "data": {
      "text/plain": [
       "Text(0.5, 1.0, 'Frecuencia de familias rivales')"
      ]
     },
     "execution_count": 16,
     "metadata": {},
     "output_type": "execute_result"
    },
    {
     "data": {
      "text/plain": [
       "<Figure size 576x396 with 0 Axes>"
      ]
     },
     "metadata": {},
     "output_type": "display_data"
    },
    {
     "data": {
      "image/png": "[encoded data removed]",
      "text/plain": [
       "<Figure size 576x396 with 2 Axes>"
      ]
     },
     "metadata": {},
     "output_type": "display_data"
    }
   ],
   "source": [
    "#estilo\n",
    "plt.style.use(\"seaborn\")\n",
    "#Crear una figura\n",
    "fig = plt.figure()\n",
    "fig, axes = plt.subplots(1, 2, sharey = True)\n",
    "fig.suptitle(\".:: Romeo y Julieta ::.\")\n",
    "plt.sca(axes[0]) #activamos el plot\n",
    "#plt.xticks(rotation=30) #rotar las llaves\n",
    "axes[0].bar(no.keys(), no.values())\n",
    "axes[0].set_title(\"Frecuencia de actores\")\n",
    "axes[1].bar(ap.keys(), ap.values())\n",
    "axes[1].set_title(\"Frecuencia de familias rivales\")"
   ]
  },
  {
   "cell_type": "code",
   "execution_count": 17,
   "id": "0fabe245",
   "metadata": {},
   "outputs": [
    {
     "name": "stdout",
     "output_type": "stream",
     "text": [
      "<Response [200]>\n"
     ]
    }
   ],
   "source": [
    "#Tiempo real : Calidad del aire <<Madrid>>\n",
    "#Formato de archivo:\n",
    "#Columnas 0, 1, 2: estación meteorológica\n",
    "#Columnas 3, 4 y 5: valor medido.Columna 3: oxido de nitrógeno 12\n",
    "#Columnas 6, 7 y 8: año, mes, dia\n",
    "#Columnas 9-56 datos especificos de la calidad del aire pero están en pares\n",
    "#vaciar (hora), verificación V Ok, N -no validado\n",
    "url = \"http://www.mambiente.madrid.es/opendata/horario.txt\"\n",
    "import requests\n",
    "resp = requests.get(url)\n",
    "print(resp)"
   ]
  },
  {
   "cell_type": "code",
   "execution_count": 18,
   "id": "56ac707b",
   "metadata": {},
   "outputs": [],
   "source": [
    "path = \"C:\\\\big_data\\\\\"\n",
    "with open(path + \"horario.txt\", \"wb\") as arch:\n",
    "    arch.write(resp.content)"
   ]
  },
  {
   "cell_type": "code",
   "execution_count": 22,
   "id": "45a295a4",
   "metadata": {},
   "outputs": [
    {
     "data": {
      "image/png": "[encoded data removed]",
      "text/plain": [
       "<Figure size 576x396 with 1 Axes>"
      ]
     },
     "metadata": {},
     "output_type": "display_data"
    }
   ],
   "source": [
    "import matplotlib.pyplot as plt\n",
    "import csv\n",
    "plt.style.use(\"seaborn\")\n",
    "with open (path+\"horario.txt\") as arch:\n",
    "    lector = csv.reader(arch, delimiter = \",\")\n",
    "    for linea in lector:\n",
    "        if linea[3] == '12':\n",
    "            hora = 0\n",
    "            col = 9\n",
    "            lista = [] #Datos de ON NO2\n",
    "            horas = [] #Horario\n",
    "            while hora <= 23:\n",
    "                if linea[col+2*hora+1] == \"V\": #V = valido\n",
    "                    lista.append(linea[col+2*hora])\n",
    "                    horas.append(hora)\n",
    "                hora = hora + 1\n",
    "plt.title(\"Oxido de Nitrogeno fecha: \" +linea[8]+\"/\" + linea[7]+\"/\" +linea[6])\n",
    "plt.plot(horas, lista)\n",
    "plt.show()\n",
    "            "
   ]
  },
  {
   "cell_type": "code",
   "execution_count": null,
   "id": "a7aabf72",
   "metadata": {},
   "outputs": [],
   "source": []
  }
 ],
 "metadata": {
  "kernelspec": {
   "display_name": "Python 3 (ipykernel)",
   "language": "python",
   "name": "python3"
  },
  "language_info": {
   "codemirror_mode": {
    "name": "ipython",
    "version": 3
   },
   "file_extension": ".py",
   "mimetype": "text/x-python",
   "name": "python",
   "nbconvert_exporter": "python",
   "pygments_lexer": "ipython3",
   "version": "3.9.7"
  }
 },
 "nbformat": 4,
 "nbformat_minor": 5
}
