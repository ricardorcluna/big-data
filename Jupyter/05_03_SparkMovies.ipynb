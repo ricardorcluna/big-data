{
 "cells": [
  {
   "cell_type": "code",
   "execution_count": null,
   "id": "223ef80f",
   "metadata": {},
   "outputs": [],
   "source": [
    "import findspark\n",
    "findspark.init()"
   ]
  },
  {
   "cell_type": "code",
   "execution_count": null,
   "id": "e297ba16",
   "metadata": {},
   "outputs": [],
   "source": [
    "from pyspark.sql import SparkSession"
   ]
  },
  {
   "cell_type": "code",
   "execution_count": null,
   "id": "55a8d3ae",
   "metadata": {},
   "outputs": [],
   "source": [
    "spark=SparkSession.builder.appName(\"DataWrangling\").getOrCreate()"
   ]
  },
  {
   "cell_type": "code",
   "execution_count": null,
   "id": "53ba96ac",
   "metadata": {},
   "outputs": [],
   "source": [
    "arch = \"D:\\\\Universidad\\\\Semestre_8\\\\\\Big Data\\\\movie_data_tmdb.csv\""
   ]
  },
  {
   "cell_type": "code",
   "execution_count": null,
   "id": "872bf5d4",
   "metadata": {},
   "outputs": [],
   "source": [
    "df = spark.read.format(\"csv\")\\\n",
    ".option(\"inferSchema\", False)\\ # no infiere los tipos de datos\n",
    ".option(\"header\", True)\\\n",
    ".option(\"sep\", \"|\")\n",
    ".load(arch)\n",
    "\n"
   ]
  },
  {
   "cell_type": "code",
   "execution_count": null,
   "id": "a95069a8",
   "metadata": {},
   "outputs": [],
   "source": [
    "df.printSchema()\n",
    "# Visualiza las columnas, sus tipos de datos y si son nullable\n",
    "\n",
    "# Salida:\n",
    "# root\n",
    "# |-- adult: string (nullable = true)\n",
    "# |-- backdrop_path: string (nullable = true)\n",
    "# |-- belongs_to_collection: string (nullable = true)\n",
    "# ........"
   ]
  },
  {
   "cell_type": "code",
   "execution_count": null,
   "id": "fe2c6ad4",
   "metadata": {},
   "outputs": [],
   "source": [
    "df.dtypes\n",
    "# desglosa la columna por nombre y tipos\n",
    "\n",
    "# Salida:\n",
    "# [('adult', 'string'),\n",
    "#  ('backdrop_path', 'string'),\n",
    "#  ('belongs_to_collection', 'string'),\n",
    "#  ('budget', 'string'),\n",
    "#  ......]"
   ]
  },
  {
   "cell_type": "code",
   "execution_count": null,
   "id": "434840b9",
   "metadata": {},
   "outputs": [],
   "source": [
    "df.columns\n",
    "# nombre de las columnas\n",
    "\n",
    "# Salida:\n",
    "# ['adult',\n",
    "#  'backdrop_path',\n",
    "#  'belongs_to_collection',\n",
    "#  'budget',\n",
    "#  'genres',\n",
    "#  ....]"
   ]
  },
  {
   "cell_type": "code",
   "execution_count": null,
   "id": "f4342d44",
   "metadata": {},
   "outputs": [],
   "source": [
    "df.count()\n",
    "\n",
    "# Salida:\n",
    "# 120127"
   ]
  },
  {
   "cell_type": "code",
   "execution_count": null,
   "id": "b0d59c13",
   "metadata": {},
   "outputs": [],
   "source": [
    "cols = ['id', 'budget', 'popularity', 'release_date', 'revenue', 'title']"
   ]
  },
  {
   "cell_type": "code",
   "execution_count": null,
   "id": "cd777277",
   "metadata": {},
   "outputs": [],
   "source": [
    "subconjunto = df.select(*cols)"
   ]
  },
  {
   "cell_type": "code",
   "execution_count": null,
   "id": "589f271b",
   "metadata": {},
   "outputs": [],
   "source": [
    "subconjunto.show()\n",
    "# Muestra una tabla con especificas columnas"
   ]
  },
  {
   "cell_type": "code",
   "execution_count": null,
   "id": "2e20d19c",
   "metadata": {},
   "outputs": [],
   "source": [
    "df.show()\n",
    "# Muestra los datos pero sin ordern"
   ]
  },
  {
   "cell_type": "code",
   "execution_count": null,
   "id": "7a47eb17",
   "metadata": {},
   "outputs": [],
   "source": [
    "subconjunto.show(10, False) #False no sobreescibe\n",
    "# Muestra informacion en una tabla"
   ]
  },
  {
   "cell_type": "code",
   "execution_count": null,
   "id": "f55dab53",
   "metadata": {},
   "outputs": [],
   "source": [
    "# Para calcular los valores faltantes en una columan o en\n",
    "# una columan o en varias\n",
    "# utilizando funciones de Spark\n",
    "from pyspark.sql.function import *"
   ]
  },
  {
   "cell_type": "code",
   "execution_count": null,
   "id": "cbcdcf7b",
   "metadata": {},
   "outputs": [],
   "source": [
    "df.filtrer((df['popularity']=='')| df['popularity']\\\n",
    "           .isNull()|isnan(df['popularity'])).count()\n",
    "\n",
    "# Salida\n",
    "# 1059"
   ]
  },
  {
   "cell_type": "code",
   "execution_count": null,
   "id": "7c274c2e",
   "metadata": {},
   "outputs": [],
   "source": [
    "# Calcular todos los valores faltantes en el DF\n",
    "# alias genera un nuevo dataset con un nuevo \"nombre\": c =\n",
    "#\n",
    "\n",
    "df.select([count(when((col(c)=='') | \n",
    "                      col(c).isNull() | isnan(c),c)\n",
    "                 .alias(c) for c in df.columns]).show()\n",
    "           \n"
   ]
  },
  {
   "cell_type": "code",
   "execution_count": null,
   "id": "b1c7f228",
   "metadata": {},
   "outputs": [],
   "source": [
    "# Calcular las frecuencias por categoria(columna)\n",
    "df.groupBy(df['title']).count().show()"
   ]
  },
  {
   "cell_type": "code",
   "execution_count": null,
   "id": "c4bd2c4d",
   "metadata": {},
   "outputs": [],
   "source": [
    "# Número de veces que aparece en el dataset\n",
    "# Ordenados\n",
    "df.groupBy(df['title']).count().sort(desct('count')).show(10, False)"
   ]
  },
  {
   "cell_type": "code",
   "execution_count": null,
   "id": "f5167b31",
   "metadata": {},
   "outputs": [],
   "source": [
    "# Creando un subconjunto temporal del DF\n",
    "# Elimina cualquier valor faltante\n",
    "temp = df.filtrer((df['title']!='') & (df['title'].isNotNull()) & ('tilde'isnan(df['title'])))"
   ]
  },
  {
   "cell_type": "code",
   "execution_count": null,
   "id": "d3fc6e2c",
   "metadata": {},
   "outputs": [],
   "source": [
    "temp.groupby(temp['title']).count().filtrer(\" 'count' > 4 \").sort(col(\"count\").desc()).show(10,False)"
   ]
  },
  {
   "cell_type": "code",
   "execution_count": null,
   "id": "6d070f88",
   "metadata": {},
   "outputs": [],
   "source": [
    "temp.groupby(temp['title']).count().filtrer(\" 'count' >= 4 \").sort(col(\"count\").desc()).show()\n",
    "\n",
    "# Salida:\n",
    "# <bound method DataFrame.show of DataFrame[title: string, count: bigint]>"
   ]
  },
  {
   "cell_type": "code",
   "execution_count": null,
   "id": "b7d09b66",
   "metadata": {},
   "outputs": [],
   "source": [
    "# Borrar los DF\n",
    "del temp"
   ]
  },
  {
   "cell_type": "code",
   "execution_count": null,
   "id": "1b426d5b",
   "metadata": {},
   "outputs": [],
   "source": [
    "df.dtypes\n",
    "\n",
    "# Salida:\n",
    "# [('adult', 'string'),\n",
    "#  ('backdrop_path', 'string'),\n",
    "#  ('belongs_to_collection', 'string'),\n",
    "#  ('budget', 'string'),\n",
    "#  ......]"
   ]
  },
  {
   "cell_type": "code",
   "execution_count": null,
   "id": "bd968b04",
   "metadata": {},
   "outputs": [],
   "source": [
    "# Convertir budget a flotante\n",
    "df = df.withColumn(\"budget\", df['budget'].cast(\"float\"))"
   ]
  },
  {
   "cell_type": "code",
   "execution_count": null,
   "id": "1caba8d9",
   "metadata": {},
   "outputs": [],
   "source": [
    "from pyspark.sql.types import *"
   ]
  },
  {
   "cell_type": "code",
   "execution_count": null,
   "id": "f7568eae",
   "metadata": {},
   "outputs": [],
   "source": [
    "int_vars=[\"id\"]\n",
    "float_vars=[\"budget\", \"popularity\", \"revenue\"]\n",
    "date_vars=[\"release_date\"]"
   ]
  },
  {
   "cell_type": "code",
   "execution_count": null,
   "id": "de256987",
   "metadata": {},
   "outputs": [],
   "source": [
    "for c in int_vars:\n",
    "    df = df.withColumn(c, df[c].cast(IntegerType()))\n",
    "    \n",
    "for c in float_vars:\n",
    "    df = df.withColumn(c, df[c].cast(FloatType()))\n",
    "    \n",
    "for c in date_vars:\n",
    "    df = df.withColumn(c, df[c].cast(DateType()))"
   ]
  },
  {
   "cell_type": "code",
   "execution_count": null,
   "id": "4464d43e",
   "metadata": {},
   "outputs": [],
   "source": [
    "df.dtypes\n",
    "\n",
    "# Salida:\n",
    "# [('budget', 'float'),\n",
    "#  ('revenue', 'float'),\n",
    "#  ('id', 'Integer'),\n",
    "#  ('popularity', 'float'),\n",
    "#  ('release_date', 'Date')\n",
    "# Conversion de los tipos de los datos, asi no sale solo la salida"
   ]
  },
  {
   "cell_type": "code",
   "execution_count": null,
   "id": "df3072c7",
   "metadata": {},
   "outputs": [],
   "source": [
    "df.show(10, False)"
   ]
  },
  {
   "cell_type": "code",
   "execution_count": null,
   "id": "3d934076",
   "metadata": {},
   "outputs": [],
   "source": [
    "#Estadisticas en el dataset\n",
    "df.describe()"
   ]
  },
  {
   "cell_type": "code",
   "execution_count": null,
   "id": "a4752797",
   "metadata": {},
   "outputs": [],
   "source": [
    "#Calcular la mediana pero primero hay que eliminar\n",
    "# los valores que sean nulos\n",
    "# isnan functions de pyspark\n",
    "df_temp = df.filtrer((df[\"budget\"]!=0) & (df[\"budget\"].isNotNull()) & ('tilde'isnan(df[\"budget\"])))"
   ]
  },
  {
   "cell_type": "code",
   "execution_count": null,
   "id": "cb5cca04",
   "metadata": {},
   "outputs": [],
   "source": [
    "#approxQuantile ( ColumnaNumerica, probabilidad (0, minimo)(0.5, mediana), (1,max)), error_relativo)\n",
    "mediana = df_temp.approxQuantile(\"budget\", [0.5], [0.1])"
   ]
  },
  {
   "cell_type": "code",
   "execution_count": null,
   "id": "58879bfe",
   "metadata": {},
   "outputs": [],
   "source": [
    "print(\"Mediana de la columna budget: \", str(mediana))\n",
    "\n",
    "# Salida\n",
    "# Mediana de la columna budget:  [3700000.0]"
   ]
  },
  {
   "cell_type": "code",
   "execution_count": null,
   "id": "19216603",
   "metadata": {},
   "outputs": [],
   "source": [
    "# agg = groupBy().agg() crea un subconjunto de datos\n",
    "# Valores unicos\n",
    "df.agg(countDistinct(col(\"title\")).alias(\"count\")).show()\n",
    "\n",
    "# Salida:\n",
    "# count:107973\n",
    "# Sale en una tablita"
   ]
  },
  {
   "cell_type": "code",
   "execution_count": null,
   "id": "47dea68e",
   "metadata": {},
   "outputs": [],
   "source": [
    "# distinct elimina valores duplicados sobre una columna\n",
    "df.select(\"title\").distinct().show(10, False)\n",
    "\n",
    "# Sale los titulos en una tablita"
   ]
  },
  {
   "cell_type": "code",
   "execution_count": null,
   "id": "492b9079",
   "metadata": {},
   "outputs": [],
   "source": [
    "# Extraer el año de release_date: year, month, dayofmonth\n",
    "df_temp = df.withColumn(\"release_year\", year(\"release_date\"))"
   ]
  },
  {
   "cell_type": "code",
   "execution_count": null,
   "id": "8f3d638b",
   "metadata": {},
   "outputs": [],
   "source": [
    "df_temp.groupBy(\"release_year\").agg(countDistinct(\"title\")).show(10, False)\n",
    "\n",
    "# Sale esas columnas en una tablita"
   ]
  },
  {
   "cell_type": "code",
   "execution_count": null,
   "id": "dd7d8653",
   "metadata": {},
   "outputs": [],
   "source": [
    "# Filtrando aquellos peliculas que inician con \"Meet\"\n",
    "df.filtrer(df[\"title\"].like(\"Meet%\")).show(10,False)"
   ]
  },
  {
   "cell_type": "code",
   "execution_count": null,
   "id": "182139a0",
   "metadata": {},
   "outputs": [],
   "source": [
    "# Filtrar las peliculas que su nombre no terminen en \"s\"\n",
    "df.filtrer(\"tilde\"df[\"title\"].like(\"%s\")).show(10,False)"
   ]
  },
  {
   "cell_type": "code",
   "execution_count": null,
   "id": "04b6cf69",
   "metadata": {},
   "outputs": [],
   "source": [
    "# Creando nuevas columnas\n",
    "# 1. Calcular la media\n",
    "# collect trae todos los elementos de los nodos de datos, los junta y se los paso al drive node\n",
    "meanPop = df.agg({\"popularity:mean\"}).collect()[0][\"avg(popularity)\"]"
   ]
  },
  {
   "cell_type": "code",
   "execution_count": null,
   "id": "09797d4c",
   "metadata": {},
   "outputs": [],
   "source": [
    "cuentaPop = df.count()"
   ]
  },
  {
   "cell_type": "code",
   "execution_count": null,
   "id": "2fe1bf3d",
   "metadata": {},
   "outputs": [],
   "source": [
    "# lit() agrega una nueva columna y le coloca un valor literal o constante\n",
    "df = df.withColumn(\"mean_popularity\", lit(meanPop))"
   ]
  },
  {
   "cell_type": "code",
   "execution_count": null,
   "id": "7445c880",
   "metadata": {},
   "outputs": [],
   "source": [
    "df = df.withColumn(\"variance\", pow((df[\"popularity\"]-df[\"mean_popularity\"]),2))"
   ]
  },
  {
   "cell_type": "code",
   "execution_count": null,
   "id": "42f5806c",
   "metadata": {},
   "outputs": [],
   "source": [
    "variance_sum = df.agg({\"variance:sum\"}).collect()[0][\"sum(variance)\"]"
   ]
  },
  {
   "cell_type": "code",
   "execution_count": null,
   "id": "ab3842eb",
   "metadata": {},
   "outputs": [],
   "source": [
    "variance_popu = variance_sum/(cuentaPop-1)"
   ]
  },
  {
   "cell_type": "code",
   "execution_count": null,
   "id": "372d4a76",
   "metadata": {},
   "outputs": [],
   "source": [
    "print(variance_popu)\n",
    "\n",
    "# Salida\n",
    "# 238.7163979..."
   ]
  },
  {
   "cell_type": "code",
   "execution_count": null,
   "id": "86ed52f8",
   "metadata": {},
   "outputs": [],
   "source": [
    "# Mismo trabajo que en el anterior pero utilizando multiples variables\n",
    "\n",
    "def new_cols(budget, popularity):\n",
    "    if budget < 1000000: budget_cat=\"Small\"\n",
    "    elif budget < 1000000: budget_cat=\"Medium\"\n",
    "    else: budget_cat = \"Big\"\n",
    "    if popularity<3: ratings=\"Low\"\n",
    "    elif popularity<5: ratings=\"Mid\"\n",
    "    else ratings=\"High\"\n",
    "    return budget_cat, ratings"
   ]
  },
  {
   "cell_type": "code",
   "execution_count": null,
   "id": "2c6df1cf",
   "metadata": {},
   "outputs": [],
   "source": [
    "# Utilizamos la funcion sobre el DF\n",
    "# udf() es una user-defined function\n",
    "udfB = udf(new_cols, StructType([StructField(\"budget_cat\", StringType(), \n",
    "                                             True), StructField(\"ratings\", StringType(), True]))"
   ]
  }
 ],
 "metadata": {
  "kernelspec": {
   "display_name": "Python 3 (ipykernel)",
   "language": "python",
   "name": "python3"
  },
  "language_info": {
   "codemirror_mode": {
    "name": "ipython",
    "version": 3
   },
   "file_extension": ".py",
   "mimetype": "text/x-python",
   "name": "python",
   "nbconvert_exporter": "python",
   "pygments_lexer": "ipython3",
   "version": "3.9.7"
  }
 },
 "nbformat": 4,
 "nbformat_minor": 5
}
