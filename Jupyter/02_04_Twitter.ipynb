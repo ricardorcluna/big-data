{
 "cells": [
  {
   "cell_type": "markdown",
   "id": "ffd76330",
   "metadata": {},
   "source": [
    "# Twitter API\n",
    "Sólo con cuenta de desarrollador API's que provee Twitter:\n",
    "\n",
    "* Tweets : buscar, publicar, filtrar, transmitir, etc.\n",
    "* Ads : análisis de audiencia\n",
    "* DM : enviar y recibir, respuesta directa, mensajes de bienvenida, etc. (aún en prueba)\n",
    "* Cuentas y usuarios : administración de cuentas e interacciones con usuarios\n",
    "* Media : acceder y subir a la plataforma fotos, videos, gif's\n",
    "* Trends : trending topics dada una localización\n",
    "* Geo : información de lugares cerca de una localización\n",
    "\n",
    "Librerías de Python para trabajar con la API de Twitter\n",
    "* Tweepy (la más recomendada y utilizada)\n",
    "* Python Twitter Tools\n",
    "* Twython\n",
    "* TwitterAPI\n",
    "* TwitterSearch\n",
    "\n",
    "## Recolección por medio de APIs\n",
    "API (Aplication Programming Interface) es una biblioteca, un conjunto de funciones que ofrece una cierta aplicación para ser accesada por otra.\n",
    "\n",
    "API Twiiter: tweepy Modo streaming\n",
    "\n",
    "API REST (Representational State Transfer, transferencia de estado representacional) es un método sencillo para recibir y enviar datos en cualquier formato, XML, JSON. Para ello se utilizan funciones POST, GET, PUT, DELETE.\n",
    "\n",
    "## RESTful API Cuenta de desarrollador de Twitter\n",
    "Necesitamos:\n",
    "\n",
    "Crear una APP en twitter, en la cual se generan las siguientes llaves: consumer key API-KEY consumer seceret key API-KEY Secret access token key access token secret key Instalar las librerías para trabajar con twitter desde python: tweepy\n",
    "\n",
    "### conda install -c conda-forge tweepy"
   ]
  },
  {
   "cell_type": "code",
   "execution_count": null,
   "id": "6d3c7e6f",
   "metadata": {},
   "outputs": [],
   "source": [
    "import os \n",
    "import pandas as pd\n",
    "import tweepy as tw"
   ]
  },
  {
   "cell_type": "code",
   "execution_count": null,
   "id": "e752bd12",
   "metadata": {},
   "outputs": [],
   "source": [
    "#Crear un app, ir a Keys and Access Tokens (copiar)\n",
    "#Click en \"Create y accese Token Secret\" (copiar)\n",
    "#Credentials\n",
    "\n",
    "consumer_key = \"cI1rISlIU5FgB4Vcy1T7BYXHh\"\n",
    "consumer_secret = \"hXW47PUQcHIfE7yoM1SN6CPFrcUwKZ4sfxqfOjjllxE9Wd7ehb\"\n",
    "access_token = \"1503435140781031430-7ih42hjcdOioh4xbCc2N52uBsPiAOk\"\n",
    "access_token_secret = \"Suf2DidgjWIkPPLAdLUvRo1u3FWg0F5fZ99TIacnyEfmV\"\n",
    "\n",
    "import json\n",
    "creds = {}\n",
    "creds[\"CONSUMER_KEY\"] = \"\"\n",
    "creds[\"CONSUMER_SECRET\"] = \"\"\n",
    "creds[\"ACCESS_TOKEN\"] = \"\"\n",
    "creds[\"ACCESS_TOKN_SECRET\"] = \"\"\n",
    "with open(\"twitter_creds.json\", \"w\") as arch:\n",
    "    json.dump(creds, arch)"
   ]
  },
  {
   "cell_type": "code",
   "execution_count": null,
   "id": "8d2bd937",
   "metadata": {},
   "outputs": [],
   "source": [
    "#se crea un objeto de la clase OAuthHandler para poder utilizar la API con python\n",
    "auth = tw.OAuthHandler(consumer_key, consumer_secret) #objeto\n",
    "\n",
    "#credenciales para utilizar la API, en\n",
    "auth.set_access_token(access_token, access_token_secret)\n",
    "\n",
    "api = tw.API(auth, wait_on_rate_limit=True)\n",
    "#objeto de la clase API, que nos permitirá realizar las consulta"
   ]
  },
  {
   "cell_type": "code",
   "execution_count": null,
   "id": "c6da5a89",
   "metadata": {},
   "outputs": [],
   "source": [
    "#Ejemplo: dos variables de búsqueda\n",
    "search_words = \"#wildfires\" #<- busqueda con este hashtag\n",
    "date_since = \"2018-11-16\""
   ]
  },
  {
   "cell_type": "code",
   "execution_count": null,
   "id": "3aa4fb16",
   "metadata": {},
   "outputs": [],
   "source": [
    "#Colecta los tweets según nuestras variables\n",
    "#Buscamos search_words, los tweets en inglés, desde la fecha date_since, se restringe la busqueda\n",
    "#Se utiliza el método Cursor para obtener los tweets que contengan la busqueda en este caso #wildfire\n",
    "tweets = tw.Cursor(api.search_tweets, q = search_words, lang = \"en\", since = date_since).items(5)\n",
    "#Cursor también devuelve información de quien escribe el tweet y la fecha además del texto del\n",
    "tweets"
   ]
  },
  {
   "cell_type": "code",
   "execution_count": null,
   "id": "ffb928bf",
   "metadata": {},
   "outputs": [],
   "source": [
    "#Despliega los tweets\n",
    "for tweet in tweets:\n",
    "    print(tweet.text)\n",
    "#Otra manera:\n",
    "#[tweet.text for tweet in tweets]"
   ]
  },
  {
   "cell_type": "code",
   "execution_count": null,
   "id": "4f639f3e",
   "metadata": {},
   "outputs": [],
   "source": [
    "#Eliminar los retweets\n",
    "new_search=search_words + \" -filter:retweets\"\n",
    "new_search"
   ]
  },
  {
   "cell_type": "code",
   "execution_count": null,
   "id": "5a4e646b",
   "metadata": {},
   "outputs": [],
   "source": [
    "tweets = tw.Cursor(api.search_tweets,q=new_search, lang=\"en\",since=date_since).items(15)\n",
    "[tweet.text for tweet in tweets]"
   ]
  },
  {
   "cell_type": "code",
   "execution_count": null,
   "id": "5fd3862c",
   "metadata": {},
   "outputs": [],
   "source": [
    "#Quien publica\n",
    "tweets = tw.Cursor(api.search,q=new_search, lang=\"en\",since=date_since).items(15)\n",
    "users_locs = [[tweet.user.screen_name, tweet.user.location] for tweet in tweets]\n",
    "users_locs"
   ]
  },
  {
   "cell_type": "code",
   "execution_count": null,
   "id": "3f052275",
   "metadata": {},
   "outputs": [],
   "source": [
    "tweet_text = pd.DataFrame(data=users_locs, columns=['user', \"location\"])\n",
    "tweet_text"
   ]
  },
  {
   "cell_type": "code",
   "execution_count": null,
   "id": "4c5da564",
   "metadata": {},
   "outputs": [],
   "source": [
    "# Nueva busqueda\n",
    "new_search = \"TecNM -filter:retweets\"\n",
    "tweets = tw.Cursor(api.search_tweets, q=new_search, lang=\"es\", \n",
    "                   since=\"2020-01-01\").items(10)\n",
    "all_tweets = (tweet.text for tweet in tweets)\n",
    "all_tweets"
   ]
  },
  {
   "cell_type": "code",
   "execution_count": null,
   "id": "e37fac47",
   "metadata": {},
   "outputs": [],
   "source": [
    "tweets = tw.Cursor(api.search_tweets, q=new_search, lang=\"es\",\n",
    "                   since=\"2020-01-01\").items(10)\n",
    "\n",
    "users_locs = [[tweet.user.screen_name, tweet.user.location] \n",
    "              for tweet in tweets]\n",
    "\n",
    "tweet_tecnm = pd.DataFrame(data=users_locs, \n",
    "                           columns=['user', 'location'])\n",
    "tweet_tecnm"
   ]
  },
  {
   "cell_type": "code",
   "execution_count": null,
   "id": "b8293f38",
   "metadata": {},
   "outputs": [],
   "source": [
    "#contando palabras\n",
    "search_term = \"#COVID -filter:retweets\"\n",
    "tweets = tw.Cursor(api.search, q=search_term, lang=\"en\", \n",
    "                   since='2020-01-01').items(1000)\n",
    "\n",
    "all_tweets = [tweet.text for tweet in tweets]\n",
    "all_tweets[:5]"
   ]
  },
  {
   "cell_type": "code",
   "execution_count": null,
   "id": "42aae461",
   "metadata": {},
   "outputs": [],
   "source": [
    "import re\n",
    "def remove_url(txt):\n",
    "    \"\"\"Replace URLs found in a text string with nothing \n",
    "    (i.e. it will remove the URL from the string).\n",
    "\n",
    "    Parameters\n",
    "    ----------\n",
    "    txt : string\n",
    "        A text string that you want to parse and remove urls.\n",
    "\n",
    "    Returns\n",
    "    -------\n",
    "    The same txt string with url's removed.\n",
    "    \"\"\"\n",
    "\n",
    "    return \" \".join(re.sub(\"([^0-9A-Za-z \\t])|(\\w+:\\/\\/\\S+)\", \"\", txt).split())"
   ]
  },
  {
   "cell_type": "code",
   "execution_count": null,
   "id": "f392c7c0",
   "metadata": {},
   "outputs": [],
   "source": [
    "all_tweets_no_urls = [remove_url(tweet) for tweet in all_tweets]\n",
    "all_tweets_no_urls[:5]"
   ]
  },
  {
   "cell_type": "code",
   "execution_count": null,
   "id": "ef429d22",
   "metadata": {},
   "outputs": [],
   "source": [
    "all_tweets_no_urls[0].split()"
   ]
  },
  {
   "cell_type": "code",
   "execution_count": null,
   "id": "467f203c",
   "metadata": {},
   "outputs": [],
   "source": [
    "all_tweets_no_urls[0].lower().split()"
   ]
  },
  {
   "cell_type": "code",
   "execution_count": null,
   "id": "25b75561",
   "metadata": {},
   "outputs": [],
   "source": [
    "#Creamos una lista de listas que contengan las palabras en minuscula para cada tweets\n",
    "words_in_tweet = [tweet.lower().split() for tweet in all_tweets_no_urls]\n",
    "words_in_tweet[:2]"
   ]
  },
  {
   "cell_type": "code",
   "execution_count": null,
   "id": "bacf19b6",
   "metadata": {},
   "outputs": [],
   "source": [
    "#Vemos la frecuencia de cada palabra\n",
    "#conda install -c conda-forge itertools\n",
    "#conda install -c conda-forge textblob\n",
    "\n",
    "import itertools #crea objetos iterables, es rápido\n",
    "import collections #crea colecciones como un dict especial sino existe la palabra agrega al dict\n",
    "\n",
    "# Lista de todas las palabras en todos los tweets\n",
    "all_words_no_urls = list(itertools.chain(*words_in_tweet))\n",
    "\n",
    "# Cuenta las palabras\n",
    "counts_no_urls = collections.Counter(all_words_no_urls)\n",
    "\n",
    "#Selecciona las 15 más utilizadas\n",
    "counts_no_urls.most_common(15) #método de collection.Counter"
   ]
  },
  {
   "cell_type": "code",
   "execution_count": null,
   "id": "48215850",
   "metadata": {},
   "outputs": [],
   "source": [
    "#utilizamos pandas\n",
    "clean_tweets_no_urls = pd.DataFrame(counts_no_urls.most_common(15), columns=['words','count'])\n",
    "clean_tweets_no_urls.head()"
   ]
  },
  {
   "cell_type": "code",
   "execution_count": null,
   "id": "c203882f",
   "metadata": {},
   "outputs": [],
   "source": [
    "import matplotlib.pyplot as plt\n",
    "\n",
    "fig, ax=plt.subplots(figsize=(8,8))\n",
    "\n",
    "#Grafica de barra horizontal\n",
    "clean_tweets_no_urls.sort_values(by='count').plot.barh(x='words',y='count',ax=ax, color=\"purple\")\n",
    "ax.set_title(\"Palabras mas utilizadas en Tweets (search_words=#COVID )\")\n",
    "plt.show()"
   ]
  }
 ],
 "metadata": {
  "kernelspec": {
   "display_name": "Python 3 (ipykernel)",
   "language": "python",
   "name": "python3"
  },
  "language_info": {
   "codemirror_mode": {
    "name": "ipython",
    "version": 3
   },
   "file_extension": ".py",
   "mimetype": "text/x-python",
   "name": "python",
   "nbconvert_exporter": "python",
   "pygments_lexer": "ipython3",
   "version": "3.9.7"
  }
 },
 "nbformat": 4,
 "nbformat_minor": 5
}
